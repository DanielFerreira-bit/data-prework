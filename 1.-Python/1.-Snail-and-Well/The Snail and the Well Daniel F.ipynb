{
 "cells": [
  {
   "cell_type": "code",
   "execution_count": 4,
   "metadata": {},
   "outputs": [
    {
     "name": "stdout",
     "output_type": "stream",
     "text": [
      "It's a new adventure for the snail: The Snail vs the well!\n",
      "It's not easy for the snail but he keep trying\n",
      "Finally, the snail did it, he've done 125 cm in only 11 days from the beginning!\n"
     ]
    }
   ],
   "source": [
    "well_height = 125\n",
    "advance_cm = [30, 21, 33, 77, 44, 45, 23, 45, 12, 34, 55]\n",
    "nightly_distance = 20\n",
    "snail_position = 0\n",
    "day = 0\n",
    "\n",
    "print(\"It's a new adventure for the snail: The Snail vs the well!\")\n",
    "\n",
    "while snail_position < well_height:\n",
    "    print(\"It's not easy for the snail but he keep trying\")\n",
    "    snail_position += advance_cm[0]\n",
    "    snail_position -= nightly_distance\n",
    "    day += 1\n",
    "    snail_position += advance_cm[1]\n",
    "    snail_position -= nightly_distance\n",
    "    day += 1\n",
    "    snail_position += advance_cm[2]\n",
    "    snail_position -= nightly_distance\n",
    "    day += 1\n",
    "    snail_position += advance_cm[3]\n",
    "    snail_position -= nightly_distance\n",
    "    day += 1\n",
    "    snail_position += advance_cm[4]\n",
    "    snail_position -= nightly_distance\n",
    "    day += 1\n",
    "    snail_position += advance_cm[5]\n",
    "    snail_position -= nightly_distance\n",
    "    day += 1\n",
    "    snail_position += advance_cm[6]\n",
    "    snail_position -= nightly_distance\n",
    "    day += 1\n",
    "    snail_position += advance_cm[7]\n",
    "    snail_position -= nightly_distance\n",
    "    day += 1\n",
    "    snail_position += advance_cm[8]\n",
    "    snail_position -= nightly_distance\n",
    "    day += 1\n",
    "    snail_position += advance_cm[9]\n",
    "    snail_position -= nightly_distance\n",
    "    day += 1\n",
    "    snail_position += advance_cm[10]\n",
    "    snail_position -= nightly_distance\n",
    "    day += 1\n",
    "else:\n",
    "    snail_position = well_height\n",
    "    \n",
    "print(\"Finally, the snail did it, he've done\", snail_position, \"cm in only\", day, \"days from the beginning!\")\n"
   ]
  },
  {
   "cell_type": "code",
   "execution_count": 1,
   "metadata": {},
   "outputs": [
    {
     "name": "stdout",
     "output_type": "stream",
     "text": [
      "It's a new adventure for the snail: The Snail vs the well!\n",
      "It's not easy for the snail but he keep trying\n",
      "It's not easy for the snail but he keep trying\n",
      "It's not easy for the snail but he keep trying\n",
      "It's not easy for the snail but he keep trying\n",
      "It's not easy for the snail but he keep trying\n",
      "It's not easy for the snail but he keep trying\n",
      "It's not easy for the snail but he keep trying\n",
      "It's not easy for the snail but he keep trying\n",
      "It's not easy for the snail but he keep trying\n",
      "It's not easy for the snail but he keep trying\n",
      "It's not easy for the snail but he keep trying\n",
      "It's not easy for the snail but he keep trying\n",
      "It's not easy for the snail but he keep trying\n",
      "Finally, the snail did it, he've done 125 cm in only 13 days from the beginning!\n"
     ]
    }
   ],
   "source": [
    "well_height = 125\n",
    "daily_distance = 30\n",
    "nightly_distance = 20\n",
    "snail_position = 0\n",
    "day = 0\n",
    "\n",
    "print(\"It's a new adventure for the snail: The Snail vs the well!\")\n",
    "\n",
    "while snail_position < well_height:\n",
    "    print(\"It's not easy for the snail but he keep trying\")\n",
    "    snail_position += daily_distance\n",
    "    snail_position -= nightly_distance\n",
    "    day += 1\n",
    "else:\n",
    "    snail_position = well_height\n",
    "    \n",
    "print(\"Finally, the snail did it, he've done\", snail_position, \"cm in only\", day, \"days from the beginning!\")"
   ]
  },
  {
   "cell_type": "code",
   "execution_count": 2,
   "metadata": {},
   "outputs": [
    {
     "ename": "NameError",
     "evalue": "name 'stdev' is not defined",
     "output_type": "error",
     "traceback": [
      "\u001b[1;31m---------------------------------------------------------------------------\u001b[0m",
      "\u001b[1;31mNameError\u001b[0m                                 Traceback (most recent call last)",
      "\u001b[1;32m<ipython-input-2-94e9159c881f>\u001b[0m in \u001b[0;36m<module>\u001b[1;34m\u001b[0m\n\u001b[1;32m----> 1\u001b[1;33m \u001b[0mstdev\u001b[0m\u001b[1;33m(\u001b[0m\u001b[0madvance_cm\u001b[0m\u001b[1;33m)\u001b[0m\u001b[1;33m\u001b[0m\u001b[1;33m\u001b[0m\u001b[0m\n\u001b[0m",
      "\u001b[1;31mNameError\u001b[0m: name 'stdev' is not defined"
     ]
    }
   ],
   "source": [
    "stdev(advance_cm)"
   ]
  },
  {
   "cell_type": "code",
   "execution_count": 3,
   "metadata": {},
   "outputs": [
    {
     "ename": "NameError",
     "evalue": "name 'advance_cm' is not defined",
     "output_type": "error",
     "traceback": [
      "\u001b[1;31m---------------------------------------------------------------------------\u001b[0m",
      "\u001b[1;31mNameError\u001b[0m                                 Traceback (most recent call last)",
      "\u001b[1;32m<ipython-input-3-db6f14ff672e>\u001b[0m in \u001b[0;36m<module>\u001b[1;34m\u001b[0m\n\u001b[1;32m----> 1\u001b[1;33m \u001b[0mstdev\u001b[0m\u001b[1;33m=\u001b[0m\u001b[1;33m(\u001b[0m\u001b[0madvance_cm\u001b[0m\u001b[1;33m)\u001b[0m\u001b[1;33m\u001b[0m\u001b[1;33m\u001b[0m\u001b[0m\n\u001b[0m",
      "\u001b[1;31mNameError\u001b[0m: name 'advance_cm' is not defined"
     ]
    }
   ],
   "source": [
    "stdev=(advance_cm)"
   ]
  },
  {
   "cell_type": "code",
   "execution_count": 4,
   "metadata": {},
   "outputs": [
    {
     "ename": "TypeError",
     "evalue": "list indices must be integers or slices, not tuple",
     "output_type": "error",
     "traceback": [
      "\u001b[1;31m---------------------------------------------------------------------------\u001b[0m",
      "\u001b[1;31mTypeError\u001b[0m                                 Traceback (most recent call last)",
      "\u001b[1;32m<ipython-input-4-2e31608ea3e4>\u001b[0m in \u001b[0;36m<module>\u001b[1;34m\u001b[0m\n\u001b[0;32m      4\u001b[0m \u001b[0msnail_position\u001b[0m \u001b[1;33m=\u001b[0m \u001b[1;36m0\u001b[0m\u001b[1;33m\u001b[0m\u001b[1;33m\u001b[0m\u001b[0m\n\u001b[0;32m      5\u001b[0m \u001b[0mday\u001b[0m \u001b[1;33m=\u001b[0m \u001b[1;36m0\u001b[0m\u001b[1;33m\u001b[0m\u001b[1;33m\u001b[0m\u001b[0m\n\u001b[1;32m----> 6\u001b[1;33m \u001b[0mstdev\u001b[0m \u001b[1;33m=\u001b[0m \u001b[0madvance_cm\u001b[0m \u001b[1;33m[\u001b[0m\u001b[1;36m30\u001b[0m\u001b[1;33m,\u001b[0m \u001b[1;36m21\u001b[0m\u001b[1;33m,\u001b[0m \u001b[1;36m33\u001b[0m\u001b[1;33m,\u001b[0m \u001b[1;36m77\u001b[0m\u001b[1;33m,\u001b[0m \u001b[1;36m44\u001b[0m\u001b[1;33m,\u001b[0m \u001b[1;36m45\u001b[0m\u001b[1;33m,\u001b[0m \u001b[1;36m23\u001b[0m\u001b[1;33m,\u001b[0m \u001b[1;36m45\u001b[0m\u001b[1;33m,\u001b[0m \u001b[1;36m12\u001b[0m\u001b[1;33m,\u001b[0m \u001b[1;36m34\u001b[0m\u001b[1;33m,\u001b[0m \u001b[1;36m55\u001b[0m\u001b[1;33m]\u001b[0m\u001b[1;33m\u001b[0m\u001b[1;33m\u001b[0m\u001b[0m\n\u001b[0m\u001b[0;32m      7\u001b[0m \u001b[1;33m\u001b[0m\u001b[0m\n\u001b[0;32m      8\u001b[0m \u001b[0mprint\u001b[0m\u001b[1;33m(\u001b[0m\u001b[1;34m\"It's a new adventure for the snail: The Snail vs the well!\"\u001b[0m\u001b[1;33m)\u001b[0m\u001b[1;33m\u001b[0m\u001b[1;33m\u001b[0m\u001b[0m\n",
      "\u001b[1;31mTypeError\u001b[0m: list indices must be integers or slices, not tuple"
     ]
    }
   ],
   "source": [
    "well_height = 125\n",
    "advance_cm = [30, 21, 33, 77, 44, 45, 23, 45, 12, 34, 55]\n",
    "nightly_distance = 20\n",
    "snail_position = 0\n",
    "day = 0\n",
    "stdev = advance_cm [30, 21, 33, 77, 44, 45, 23, 45, 12, 34, 55]\n",
    "\n",
    "print(\"It's a new adventure for the snail: The Snail vs the well!\")\n",
    "\n",
    "while snail_position < well_height:\n",
    "    print(\"It's not easy for the snail but he keep trying\")\n",
    "    snail_position += advance_cm[0]\n",
    "    snail_position -= nightly_distance\n",
    "    day += 1\n",
    "    snail_position += advance_cm[1]\n",
    "    snail_position -= nightly_distance\n",
    "    day += 1\n",
    "    snail_position += advance_cm[2]\n",
    "    snail_position -= nightly_distance\n",
    "    day += 1\n",
    "    snail_position += advance_cm[3]\n",
    "    snail_position -= nightly_distance\n",
    "    day += 1\n",
    "    snail_position += advance_cm[4]\n",
    "    snail_position -= nightly_distance\n",
    "    day += 1\n",
    "    snail_position += advance_cm[5]\n",
    "    snail_position -= nightly_distance\n",
    "    day += 1\n",
    "    snail_position += advance_cm[6]\n",
    "    snail_position -= nightly_distance\n",
    "    day += 1\n",
    "    snail_position += advance_cm[7]\n",
    "    snail_position -= nightly_distance\n",
    "    day += 1\n",
    "    snail_position += advance_cm[8]\n",
    "    snail_position -= nightly_distance\n",
    "    day += 1\n",
    "    snail_position += advance_cm[9]\n",
    "    snail_position -= nightly_distance\n",
    "    day += 1\n",
    "    snail_position += advance_cm[10]\n",
    "    snail_position -= nightly_distance\n",
    "    day += 1\n",
    "else:\n",
    "    snail_position = well_height\n",
    "    \n",
    "print(\"Finally, the snail did it, he've done\", snail_position, \"cm in only\", day, \"days from the beginning!\")\n",
    "stdev(advance_cm)"
   ]
  },
  {
   "cell_type": "code",
   "execution_count": 5,
   "metadata": {},
   "outputs": [
    {
     "ename": "TypeError",
     "evalue": "'list' object is not callable",
     "output_type": "error",
     "traceback": [
      "\u001b[1;31m---------------------------------------------------------------------------\u001b[0m",
      "\u001b[1;31mTypeError\u001b[0m                                 Traceback (most recent call last)",
      "\u001b[1;32m<ipython-input-5-3753879c573c>\u001b[0m in \u001b[0;36m<module>\u001b[1;34m\u001b[0m\n\u001b[0;32m      4\u001b[0m \u001b[0msnail_position\u001b[0m \u001b[1;33m=\u001b[0m \u001b[1;36m0\u001b[0m\u001b[1;33m\u001b[0m\u001b[1;33m\u001b[0m\u001b[0m\n\u001b[0;32m      5\u001b[0m \u001b[0mday\u001b[0m \u001b[1;33m=\u001b[0m \u001b[1;36m0\u001b[0m\u001b[1;33m\u001b[0m\u001b[1;33m\u001b[0m\u001b[0m\n\u001b[1;32m----> 6\u001b[1;33m \u001b[0mstdev\u001b[0m \u001b[1;33m=\u001b[0m \u001b[0madvance_cm\u001b[0m \u001b[1;33m(\u001b[0m\u001b[1;36m30\u001b[0m\u001b[1;33m,\u001b[0m \u001b[1;36m21\u001b[0m\u001b[1;33m,\u001b[0m \u001b[1;36m33\u001b[0m\u001b[1;33m,\u001b[0m \u001b[1;36m77\u001b[0m\u001b[1;33m,\u001b[0m \u001b[1;36m44\u001b[0m\u001b[1;33m,\u001b[0m \u001b[1;36m45\u001b[0m\u001b[1;33m,\u001b[0m \u001b[1;36m23\u001b[0m\u001b[1;33m,\u001b[0m \u001b[1;36m45\u001b[0m\u001b[1;33m,\u001b[0m \u001b[1;36m12\u001b[0m\u001b[1;33m,\u001b[0m \u001b[1;36m34\u001b[0m\u001b[1;33m,\u001b[0m \u001b[1;36m55\u001b[0m\u001b[1;33m)\u001b[0m\u001b[1;33m\u001b[0m\u001b[1;33m\u001b[0m\u001b[0m\n\u001b[0m\u001b[0;32m      7\u001b[0m \u001b[1;33m\u001b[0m\u001b[0m\n\u001b[0;32m      8\u001b[0m \u001b[0mprint\u001b[0m\u001b[1;33m(\u001b[0m\u001b[1;34m\"It's a new adventure for the snail: The Snail vs the well!\"\u001b[0m\u001b[1;33m)\u001b[0m\u001b[1;33m\u001b[0m\u001b[1;33m\u001b[0m\u001b[0m\n",
      "\u001b[1;31mTypeError\u001b[0m: 'list' object is not callable"
     ]
    }
   ],
   "source": [
    "well_height = 125\n",
    "advance_cm = [30, 21, 33, 77, 44, 45, 23, 45, 12, 34, 55]\n",
    "nightly_distance = 20\n",
    "snail_position = 0\n",
    "day = 0\n",
    "stdev = advance_cm (30, 21, 33, 77, 44, 45, 23, 45, 12, 34, 55)\n",
    "\n",
    "print(\"It's a new adventure for the snail: The Snail vs the well!\")\n",
    "\n",
    "while snail_position < well_height:\n",
    "    print(\"It's not easy for the snail but he keep trying\")\n",
    "    snail_position += advance_cm[0]\n",
    "    snail_position -= nightly_distance\n",
    "    day += 1\n",
    "    snail_position += advance_cm[1]\n",
    "    snail_position -= nightly_distance\n",
    "    day += 1\n",
    "    snail_position += advance_cm[2]\n",
    "    snail_position -= nightly_distance\n",
    "    day += 1\n",
    "    snail_position += advance_cm[3]\n",
    "    snail_position -= nightly_distance\n",
    "    day += 1\n",
    "    snail_position += advance_cm[4]\n",
    "    snail_position -= nightly_distance\n",
    "    day += 1\n",
    "    snail_position += advance_cm[5]\n",
    "    snail_position -= nightly_distance\n",
    "    day += 1\n",
    "    snail_position += advance_cm[6]\n",
    "    snail_position -= nightly_distance\n",
    "    day += 1\n",
    "    snail_position += advance_cm[7]\n",
    "    snail_position -= nightly_distance\n",
    "    day += 1\n",
    "    snail_position += advance_cm[8]\n",
    "    snail_position -= nightly_distance\n",
    "    day += 1\n",
    "    snail_position += advance_cm[9]\n",
    "    snail_position -= nightly_distance\n",
    "    day += 1\n",
    "    snail_position += advance_cm[10]\n",
    "    snail_position -= nightly_distance\n",
    "    day += 1\n",
    "else:\n",
    "    snail_position = well_height\n",
    "    \n",
    "print(\"Finally, the snail did it, he've done\", snail_position, \"cm in only\", day, \"days from the beginning!\")\n",
    "stdev(advance_cm)"
   ]
  },
  {
   "cell_type": "code",
   "execution_count": 6,
   "metadata": {},
   "outputs": [
    {
     "ename": "SyntaxError",
     "evalue": "invalid syntax (<ipython-input-6-f4cde226d6c1>, line 6)",
     "output_type": "error",
     "traceback": [
      "\u001b[1;36m  File \u001b[1;32m\"<ipython-input-6-f4cde226d6c1>\"\u001b[1;36m, line \u001b[1;32m6\u001b[0m\n\u001b[1;33m    stdev = advance_cm :(30, 21, 33, 77, 44, 45, 23, 45, 12, 34, 55)\u001b[0m\n\u001b[1;37m                       ^\u001b[0m\n\u001b[1;31mSyntaxError\u001b[0m\u001b[1;31m:\u001b[0m invalid syntax\n"
     ]
    }
   ],
   "source": [
    "well_height = 125\n",
    "advance_cm = [30, 21, 33, 77, 44, 45, 23, 45, 12, 34, 55]\n",
    "nightly_distance = 20\n",
    "snail_position = 0\n",
    "day = 0\n",
    "stdev = advance_cm :(30, 21, 33, 77, 44, 45, 23, 45, 12, 34, 55)\n",
    "\n",
    "print(\"It's a new adventure for the snail: The Snail vs the well!\")\n",
    "\n",
    "while snail_position < well_height:\n",
    "    print(\"It's not easy for the snail but he keep trying\")\n",
    "    snail_position += advance_cm[0]\n",
    "    snail_position -= nightly_distance\n",
    "    day += 1\n",
    "    snail_position += advance_cm[1]\n",
    "    snail_position -= nightly_distance\n",
    "    day += 1\n",
    "    snail_position += advance_cm[2]\n",
    "    snail_position -= nightly_distance\n",
    "    day += 1\n",
    "    snail_position += advance_cm[3]\n",
    "    snail_position -= nightly_distance\n",
    "    day += 1\n",
    "    snail_position += advance_cm[4]\n",
    "    snail_position -= nightly_distance\n",
    "    day += 1\n",
    "    snail_position += advance_cm[5]\n",
    "    snail_position -= nightly_distance\n",
    "    day += 1\n",
    "    snail_position += advance_cm[6]\n",
    "    snail_position -= nightly_distance\n",
    "    day += 1\n",
    "    snail_position += advance_cm[7]\n",
    "    snail_position -= nightly_distance\n",
    "    day += 1\n",
    "    snail_position += advance_cm[8]\n",
    "    snail_position -= nightly_distance\n",
    "    day += 1\n",
    "    snail_position += advance_cm[9]\n",
    "    snail_position -= nightly_distance\n",
    "    day += 1\n",
    "    snail_position += advance_cm[10]\n",
    "    snail_position -= nightly_distance\n",
    "    day += 1\n",
    "else:\n",
    "    snail_position = well_height\n",
    "    \n",
    "print(\"Finally, the snail did it, he've done\", snail_position, \"cm in only\", day, \"days from the beginning!\")\n",
    "stdev(advance_cm)"
   ]
  },
  {
   "cell_type": "code",
   "execution_count": 14,
   "metadata": {},
   "outputs": [],
   "source": [
    "stdev=(30, 21, 33, 77, 44, 45, 23, 45, 12, 34, 55)\n",
    "compute=(stdev)"
   ]
  },
  {
   "cell_type": "code",
   "execution_count": 68,
   "metadata": {},
   "outputs": [
    {
     "name": "stdout",
     "output_type": "stream",
     "text": [
      "It's a new adventure for the snail: The Snail vs the well!\n",
      "It's not easy for the snail but he keep trying\n",
      "Finally, the snail did it, he've done 125 cm in only 11 days from the beginning!\n",
      "77\n",
      "12\n",
      "38.09090909090909\n",
      "The Standard Deviation is (15, 49032654) .\n"
     ]
    }
   ],
   "source": [
    "well_height = 125\n",
    "advance_cm = [30, 21, 33, 77, 44, 45, 23, 45, 12, 34, 55]\n",
    "nightly_distance = 20\n",
    "snail_position = 0\n",
    "day = 0\n",
    "\n",
    "print(\"It's a new adventure for the snail: The Snail vs the well!\")\n",
    "\n",
    "while snail_position < well_height:\n",
    "    print(\"It's not easy for the snail but he keep trying\")\n",
    "    snail_position += advance_cm[0]\n",
    "    snail_position -= nightly_distance\n",
    "    day += 1\n",
    "    snail_position += advance_cm[1]\n",
    "    snail_position -= nightly_distance\n",
    "    day += 1\n",
    "    snail_position += advance_cm[2]\n",
    "    snail_position -= nightly_distance\n",
    "    day += 1\n",
    "    snail_position += advance_cm[3]\n",
    "    snail_position -= nightly_distance\n",
    "    day += 1\n",
    "    snail_position += advance_cm[4]\n",
    "    snail_position -= nightly_distance\n",
    "    day += 1\n",
    "    snail_position += advance_cm[5]\n",
    "    snail_position -= nightly_distance\n",
    "    day += 1\n",
    "    snail_position += advance_cm[6]\n",
    "    snail_position -= nightly_distance\n",
    "    day += 1\n",
    "    snail_position += advance_cm[7]\n",
    "    snail_position -= nightly_distance\n",
    "    day += 1\n",
    "    snail_position += advance_cm[8]\n",
    "    snail_position -= nightly_distance\n",
    "    day += 1\n",
    "    snail_position += advance_cm[9]\n",
    "    snail_position -= nightly_distance\n",
    "    day += 1\n",
    "    snail_position += advance_cm[10]\n",
    "    snail_position -= nightly_distance\n",
    "    day += 1\n",
    "else:\n",
    "    snail_position = well_height\n",
    "\n",
    "list(advance_cm)\n",
    "# Maximum\n",
    "max (advance_cm)\n",
    "# Minimum\n",
    "min (advance_cm)\n",
    "\n",
    "# Addition\n",
    "Distance_daily = Sum = 30+21+33+77+44+45+23+45+12+34+55  \n",
    "# Division\n",
    "Average_Distance_daily = Sum/11\n",
    "# Division\n",
    "Average_Speed_daily = Distance_daily/day\n",
    "Standard_deviation = 15,49032654\n",
    "\n",
    "print(\"Finally, the snail did it, he've done\", snail_position, \"cm in only\", day, \"days from the beginning!\")\n",
    "print(max(advance_cm))\n",
    "print(min(advance_cm))\n",
    "print(Average_Speed_daily)\n",
    "print('The Standard Deviation is', Standard_deviation, '.')"
   ]
  },
  {
   "cell_type": "code",
   "execution_count": null,
   "metadata": {},
   "outputs": [],
   "source": []
  },
  {
   "cell_type": "code",
   "execution_count": null,
   "metadata": {},
   "outputs": [],
   "source": []
  }
 ],
 "metadata": {
  "kernelspec": {
   "display_name": "Python 3",
   "language": "python",
   "name": "python3"
  },
  "language_info": {
   "codemirror_mode": {
    "name": "ipython",
    "version": 3
   },
   "file_extension": ".py",
   "mimetype": "text/x-python",
   "name": "python",
   "nbconvert_exporter": "python",
   "pygments_lexer": "ipython3",
   "version": "3.8.5"
  }
 },
 "nbformat": 4,
 "nbformat_minor": 4
}
